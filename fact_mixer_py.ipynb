{
  "nbformat": 4,
  "nbformat_minor": 0,
  "metadata": {
    "colab": {
      "provenance": [],
      "authorship_tag": "ABX9TyOEbxXT8pRDGeejz2Cn44/+",
      "include_colab_link": true
    },
    "kernelspec": {
      "name": "python3",
      "display_name": "Python 3"
    },
    "language_info": {
      "name": "python"
    }
  },
  "cells": [
    {
      "cell_type": "markdown",
      "metadata": {
        "id": "view-in-github",
        "colab_type": "text"
      },
      "source": [
        "<a href=\"https://colab.research.google.com/github/abd-abdur/fact-mixer/blob/main/fact_mixer_py.ipynb\" target=\"_parent\"><img src=\"https://colab.research.google.com/assets/colab-badge.svg\" alt=\"Open In Colab\"/></a>"
      ]
    },
    {
      "cell_type": "code",
      "execution_count": 6,
      "metadata": {
        "colab": {
          "base_uri": "https://localhost:8080/"
        },
        "id": "MGsva2_Kc9iD",
        "outputId": "2b11aa64-d2ef-4c2e-e6e1-7182cb0cf3be"
      },
      "outputs": [
        {
          "output_type": "stream",
          "name": "stdout",
          "text": [
            "Useless Fact: In medieval France, unfaithful wives were made to chase a chicken through town naked.\n",
            "Cat Fact: Cat can jump.\n"
          ]
        }
      ],
      "source": [
        "import requests\n",
        "\n",
        "# Fetch random useless fact\n",
        "useless_fact_url = \"https://uselessfacts.jsph.pl/random.json?language=en\"\n",
        "useless_fact_response = requests.get(useless_fact_url)\n",
        "\n",
        "if useless_fact_response.status_code == 200:\n",
        "    useless_fact = useless_fact_response.json().get(\"text\")\n",
        "else:\n",
        "    useless_fact = \"Could not fetch useless fact.\"\n",
        "\n",
        "# Fetch random cat fact\n",
        "cat_fact_url = \"https://cat-fact.herokuapp.com/facts/random\"\n",
        "cat_fact_response = requests.get(cat_fact_url)\n",
        "\n",
        "if cat_fact_response.status_code == 200:\n",
        "    cat_fact = cat_fact_response.json().get(\"text\")\n",
        "else:\n",
        "    cat_fact = \"Could not fetch cat fact.\"\n",
        "\n",
        "# Combine both facts into one message\n",
        "combined_facts = f\"Useless Fact: {useless_fact}\\nCat Fact: {cat_fact}\"\n",
        "\n",
        "# Display the combined facts\n",
        "print(combined_facts)\n",
        "\n"
      ]
    }
  ]
}